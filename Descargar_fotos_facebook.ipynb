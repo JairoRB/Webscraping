{
 "cells": [
  {
   "cell_type": "markdown",
   "id": "f8208c26",
   "metadata": {},
   "source": [
    "# Librerías"
   ]
  },
  {
   "cell_type": "code",
   "execution_count": null,
   "id": "e4fa05ff",
   "metadata": {},
   "outputs": [],
   "source": [
    "from selenium import webdriver\n",
    "from selenium.webdriver.common.keys import Keys\n",
    "from selenium.webdriver.support import expected_conditions as EC\n",
    "from selenium.webdriver.common.by import By\n",
    "from selenium.webdriver.support.wait import WebDriverWait\n",
    "import time\n",
    "import os\n",
    "import wget"
   ]
  },
  {
   "cell_type": "markdown",
   "id": "bc484185",
   "metadata": {},
   "source": [
    "# Driver e inicio de sesión"
   ]
  },
  {
   "cell_type": "code",
   "execution_count": null,
   "id": "b5b07d83",
   "metadata": {},
   "outputs": [],
   "source": [
    "# Desabilitar las alertas de Crome\n",
    "chrome_options = webdriver.ChromeOptions()\n",
    "prefs = {\"profile.default_content_setting_values.notifications\" : 2}\n",
    "chrome_options.add_experimental_option(\"prefs\",prefs)\n",
    "# Establecer la página de interes\n",
    "driver = webdriver.Chrome('direccion_en_su_computador_chromedriver.exe', chrome_options=chrome_options)\n",
    "driver.get('https://www.facebook.com/')"
   ]
  },
  {
   "cell_type": "code",
   "execution_count": null,
   "id": "ce3b6654",
   "metadata": {},
   "outputs": [],
   "source": [
    "# Seleccionar username y password\n",
    "username = WebDriverWait(driver, 10).until(EC.element_to_be_clickable((By.CSS_SELECTOR, \"input[name='email']\")))\n",
    "password = WebDriverWait(driver, 10).until(EC.element_to_be_clickable((By.CSS_SELECTOR, \"input[name='pass']\")))\n",
    "# Limpiar username y password\n",
    "username.clear()\n",
    "password.clear()\n",
    "# Enviar correo y contraseña\n",
    "username.send_keys(\"alremitente@gmail.com\")\n",
    "password.send_keys(\"PatriaGrande2357\")\n",
    "# Iniciar sesion\n",
    "log_in = WebDriverWait(driver, 10).until(EC.element_to_be_clickable((By.CSS_SELECTOR, \"button[type='submit']\"))).click()"
   ]
  },
  {
   "cell_type": "markdown",
   "id": "559526ae",
   "metadata": {},
   "source": [
    "# Descarga de imágenes del perfil seleccionado"
   ]
  },
  {
   "cell_type": "code",
   "execution_count": null,
   "id": "3bc2038c",
   "metadata": {},
   "outputs": [],
   "source": [
    "# Tiempo para la carga de la página\n",
    "time.sleep(5)\n",
    "images = [] \n",
    "\n",
    "# Se itera sobre las fotos cargadas y etiqutadas\n",
    "for i in [\"photos_all\", \"photos_of\"]:\n",
    "    driver.get(\"url_interes\" + i + \"/\")\n",
    "    \n",
    "    time.sleep(5)\n",
    "    \n",
    "    # Para desplazar dentro de la página\n",
    "    # se ha puesto 1 solamente\n",
    "    for j in range(0,1):\n",
    "        driver.execute_script(\"window.scrollTo(0, document.body.scrollHeight);\")\n",
    "        time.sleep(10)\n",
    "\n",
    "    # Extrayendo todo elemento de tipo 'a', que contiene urls\n",
    "    anchors = driver.find_elements_by_tag_name('a')\n",
    "    anchors = [a.get_attribute('href') for a in anchors]\n",
    "    # Seleccionar los elementos que contengan fotos\n",
    "    narrow down all links to image links only\n",
    "    anchors = [a for a in anchors if str(a).startswith(\"https://www.facebook.com/photo\")]\n",
    "    \n",
    "    print('Se ha encontrado ' + str(len(anchors)) + ' links que llevan a imágenes')\n",
    "    \n",
    "    # Se extrae una imgaen por link\n",
    "    for a in anchors:\n",
    "        # Ir al link\n",
    "        driver.get(a) \n",
    "        # Esperar la carga de la página\n",
    "        time.sleep(5)\n",
    "        # Seleccionar el elemento que contiene a la imagen\n",
    "        #img = driver.find_elements_by_tag_name(\"img\")\n",
    "        img = driver.find_element_by_xpath('/html/body/div[1]/div/div[1]/div/div[3]/div/div/div[1]/div[1]/div/div[1]/div/div[1]/div/div[2]/div/div/div/img')\n",
    "        # extraccion de la imagen\n",
    "        images.append(img.get_attribute('src'))\n",
    "\n",
    "print('Se han obtenido '+ str(len(images)) + ' imágenes')"
   ]
  },
  {
   "cell_type": "code",
   "execution_count": null,
   "id": "03e04891",
   "metadata": {},
   "outputs": [],
   "source": [
    "# Una vista de lo obtendio\n",
    "images"
   ]
  },
  {
   "cell_type": "code",
   "execution_count": null,
   "id": "19c85507",
   "metadata": {},
   "outputs": [],
   "source": [
    "# Estableciendo el directorio\n",
    "path = os.getcwd()\n",
    "# Creando el nuevo directorio\n",
    "path = os.path.join(path, \"FB_KR\")\n",
    "os.mkdir(path)"
   ]
  },
  {
   "cell_type": "code",
   "execution_count": null,
   "id": "71d9f1a2",
   "metadata": {},
   "outputs": [],
   "source": [
    "# Descarga de imágenes\n",
    "counter = 0\n",
    "for image in images:\n",
    "    # Creacion del archivo para ser descargado\n",
    "    save_as = os.path.join(path, str(counter) + '.jpg')\n",
    "    # Descarga del archivo\n",
    "    wget.download(image, save_as)\n",
    "    counter += 1"
   ]
  }
 ],
 "metadata": {
  "kernelspec": {
   "display_name": "Python 3",
   "language": "python",
   "name": "python3"
  },
  "language_info": {
   "codemirror_mode": {
    "name": "ipython",
    "version": 3
   },
   "file_extension": ".py",
   "mimetype": "text/x-python",
   "name": "python",
   "nbconvert_exporter": "python",
   "pygments_lexer": "ipython3",
   "version": "3.8.8"
  }
 },
 "nbformat": 4,
 "nbformat_minor": 5
}
