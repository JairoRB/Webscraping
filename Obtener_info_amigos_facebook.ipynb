{
 "cells": [
  {
   "cell_type": "markdown",
   "id": "0c3d507a",
   "metadata": {},
   "source": [
    "# Librerías"
   ]
  },
  {
   "cell_type": "code",
   "execution_count": null,
   "id": "0aa3c2ba",
   "metadata": {},
   "outputs": [],
   "source": [
    "from selenium import webdriver\n",
    "from selenium.webdriver.common.keys import Keys\n",
    "from selenium.webdriver.support import expected_conditions as EC\n",
    "from selenium.webdriver.common.by import By\n",
    "from selenium.webdriver.support.wait import WebDriverWait\n",
    "from selenium.common.exceptions import TimeoutException\n",
    "import time\n",
    "import re\n",
    "import pandas as pd"
   ]
  },
  {
   "cell_type": "markdown",
   "id": "a6ae5786",
   "metadata": {},
   "source": [
    "# Inicio de sesión"
   ]
  },
  {
   "cell_type": "code",
   "execution_count": null,
   "id": "c651adc9",
   "metadata": {},
   "outputs": [],
   "source": [
    "# Cargar el driver de Firefox\n",
    "driver = webdriver.Firefox()\n",
    "# Establecer la pagina a ingresar\n",
    "driver.get(\"http://www.facebook.com\")\n",
    "# Seleccionar username y password\n",
    "username = WebDriverWait(driver, 10).until(EC.element_to_be_clickable((By.CSS_SELECTOR, \"input[name='email']\")))\n",
    "password = WebDriverWait(driver, 10).until(EC.element_to_be_clickable((By.CSS_SELECTOR, \"input[name='pass']\")))\n",
    "# Limpiar username y password\n",
    "username.clear()\n",
    "password.clear()\n",
    "# Enviar correo y contraseña\n",
    "username.send_keys(\"su_correo\")\n",
    "password.send_keys(\"su_contrasena\")\n",
    "# Iniciar sesion\n",
    "log_in = WebDriverWait(driver, 10).until(EC.element_to_be_clickable((By.CSS_SELECTOR, \"button[type='submit']\"))).click()"
   ]
  },
  {
   "cell_type": "markdown",
   "id": "b9ddce80",
   "metadata": {},
   "source": [
    "# Función para extraer amigos"
   ]
  },
  {
   "cell_type": "code",
   "execution_count": null,
   "id": "0c477b23",
   "metadata": {},
   "outputs": [],
   "source": [
    "def get_friendship(path_url, i, n):\n",
    "    status_person = [\"friends\", \"following\", \"followers\"]\n",
    "    driver.get(path_url + \"/\" + status_person[0])\n",
    "\n",
    "    for j in range(0,n):\n",
    "            driver.execute_script(\"window.scrollTo(0, document.body.scrollHeight);\")\n",
    "            time.sleep(10)\n",
    "\n",
    "    link_user = WebDriverWait(driver, 5).until(EC.element_to_be_clickable((By.CSS_SELECTOR, \".sbcfpzgs > div:nth-child(1)\")))\n",
    "    link_user = link_user.find_elements_by_tag_name('a')\n",
    "    link_user = [a.get_attribute('href') for a in link_user]\n",
    "    link_user = list(dict.fromkeys(link_user))\n",
    "    link_user = [a for a in link_user if a != None]\n",
    "    link_user = [a for a in link_user if a != path_url + \"/\" + status_person[0]]\n",
    "    link_user = [a for a in link_user if a != \"https://www.facebook.com/friends/\"]\n",
    "    link_user = [a for a in link_user if a.find(\"mutual\") == -1]\n",
    "    \n",
    "    return(link_user)"
   ]
  },
  {
   "cell_type": "markdown",
   "id": "c7548041",
   "metadata": {},
   "source": [
    "# Función para extraer información de usuario"
   ]
  },
  {
   "cell_type": "code",
   "execution_count": null,
   "id": "fb3b35d6",
   "metadata": {},
   "outputs": [],
   "source": [
    "def get_profile_desc(path_url):\n",
    "    # url\n",
    "    driver.get(path_url)\n",
    "    time.sleep(5)\n",
    "    \n",
    "    # username\n",
    "    try:\n",
    "        name_user = WebDriverWait(driver, 5).until(EC.element_to_be_clickable((By.CSS_SELECTOR, \".l1jc4y16 > h1:nth-child(1)\"))).text\n",
    "    except:\n",
    "        name_user = ''\n",
    "    # numero de amigos\n",
    "    try:\n",
    "        friends = WebDriverWait(driver, 5).until(EC.element_to_be_clickable((By.CSS_SELECTOR, \"div.ll8tlv6m:nth-child(2) > span:nth-child(1) > a:nth-child(1)\"))).text\n",
    "    except:\n",
    "        friends = ''\n",
    "    # descripcion de perfil\n",
    "    try:\n",
    "        description = WebDriverWait(driver, 5).until(EC.element_to_be_clickable((By.CSS_SELECTOR, \"div.lpgh02oy:nth-child(2) > div:nth-child(1) > div:nth-child(1) > div:nth-child(1) > div:nth-child(1) > div:nth-child(1) > div:nth-child(1) > div:nth-child(2) > div:nth-child(1)\"))).text\n",
    "    except:\n",
    "        description = ''\n",
    "        \n",
    "    profile = {'user name': name_user\n",
    "               ,'friends': friends\n",
    "               ,'description': description\n",
    "              }\n",
    "    \n",
    "    return(profile)"
   ]
  },
  {
   "cell_type": "markdown",
   "id": "53f6571a",
   "metadata": {},
   "source": [
    "# Extracción de amigos"
   ]
  },
  {
   "cell_type": "code",
   "execution_count": null,
   "id": "24cdc8eb",
   "metadata": {},
   "outputs": [],
   "source": [
    "# Establecer el usuario de interes\n",
    "path_url = \"https://www.facebook.com/jairinrb\""
   ]
  },
  {
   "cell_type": "code",
   "execution_count": null,
   "id": "3ae2e8e8",
   "metadata": {},
   "outputs": [],
   "source": [
    "# Informacion de usuario\n",
    "info = []\n",
    "info.append(get_profile_desc(path_url))"
   ]
  },
  {
   "cell_type": "code",
   "execution_count": null,
   "id": "13bb6e04",
   "metadata": {},
   "outputs": [],
   "source": [
    "# Informacion de mi perfil, yo lo tengo privado\n",
    "info[0]"
   ]
  },
  {
   "cell_type": "code",
   "execution_count": null,
   "id": "867b41e5",
   "metadata": {},
   "outputs": [],
   "source": [
    "# Extracción de amigos\n",
    "# 0 se corresponde con friends\n",
    "# 10 con el número de veces que se desea desplazar la página\n",
    "amigos = get_friendship(path_url, 0, 10)"
   ]
  },
  {
   "cell_type": "code",
   "execution_count": null,
   "id": "d8e46fa8",
   "metadata": {},
   "outputs": [],
   "source": [
    "# Cantidad de amigos extraídos, al momento de obtención tenía 452 amigos\n",
    "len(amigos)"
   ]
  },
  {
   "cell_type": "code",
   "execution_count": null,
   "id": "14a63de1",
   "metadata": {},
   "outputs": [],
   "source": [
    "# Uniendo mi información con la de mis amigos\n",
    "info = info + [get_profile_desc(a) for a in amigos]"
   ]
  },
  {
   "cell_type": "code",
   "execution_count": null,
   "id": "64c9af55",
   "metadata": {},
   "outputs": [],
   "source": [
    "# Cantidad total de usuarios cuya información se ha obtenido\n",
    "len(info)"
   ]
  },
  {
   "cell_type": "code",
   "execution_count": null,
   "id": "ab426070",
   "metadata": {},
   "outputs": [],
   "source": [
    "# Creación de un dataframe con la información capturada\n",
    "df = pd.DataFrame(info)"
   ]
  },
  {
   "cell_type": "code",
   "execution_count": null,
   "id": "7e644f6f",
   "metadata": {},
   "outputs": [],
   "source": [
    "# Se crea la columna link, que será el indentificador de cada usuario\n",
    "df['link'] = [path_url] + amigos"
   ]
  },
  {
   "cell_type": "code",
   "execution_count": null,
   "id": "be8cf620",
   "metadata": {},
   "outputs": [],
   "source": [
    "# una muestra de los primeros resultados\n",
    "df.head(5)"
   ]
  },
  {
   "cell_type": "code",
   "execution_count": null,
   "id": "696d5c06",
   "metadata": {},
   "outputs": [],
   "source": [
    "# Las columans obtenidas\n",
    "df.columns"
   ]
  },
  {
   "cell_type": "code",
   "execution_count": null,
   "id": "d70ae683",
   "metadata": {},
   "outputs": [],
   "source": [
    "# Renombrando columanas\n",
    "df.columns = ['Name','Friend','Description','link']"
   ]
  },
  {
   "cell_type": "code",
   "execution_count": null,
   "id": "526b1d4e",
   "metadata": {},
   "outputs": [],
   "source": [
    "df.head(5)"
   ]
  },
  {
   "cell_type": "code",
   "execution_count": null,
   "id": "d76ca7be",
   "metadata": {},
   "outputs": [],
   "source": [
    "# Exportación de resultados a un archivo csv\n",
    "df.to_csv('amigos.csv',index=False, encoding='utf-8', sep = ';')"
   ]
  },
  {
   "cell_type": "markdown",
   "id": "c894153a",
   "metadata": {},
   "source": [
    "Elaborado por Jairo Rojas\n",
    "\n",
    "Email: jairinrojasb@gmail.com"
   ]
  }
 ],
 "metadata": {
  "kernelspec": {
   "display_name": "Python 3",
   "language": "python",
   "name": "python3"
  },
  "language_info": {
   "codemirror_mode": {
    "name": "ipython",
    "version": 3
   },
   "file_extension": ".py",
   "mimetype": "text/x-python",
   "name": "python",
   "nbconvert_exporter": "python",
   "pygments_lexer": "ipython3",
   "version": "3.8.8"
  }
 },
 "nbformat": 4,
 "nbformat_minor": 5
}
