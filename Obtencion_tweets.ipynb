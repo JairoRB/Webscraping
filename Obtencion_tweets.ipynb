{
 "cells": [
  {
   "cell_type": "markdown",
   "id": "0c3d507a",
   "metadata": {},
   "source": [
    "# Librerías"
   ]
  },
  {
   "cell_type": "code",
   "execution_count": 1,
   "id": "0aa3c2ba",
   "metadata": {},
   "outputs": [],
   "source": [
    "from selenium import webdriver\n",
    "from selenium.webdriver.common.keys import Keys\n",
    "from selenium.webdriver.support import expected_conditions as EC\n",
    "from selenium.webdriver.common.by import By\n",
    "from selenium.webdriver.support.wait import WebDriverWait\n",
    "from selenium.common.exceptions import TimeoutException\n",
    "import time\n",
    "import re\n",
    "import pandas as pd\n",
    "import os"
   ]
  },
  {
   "cell_type": "markdown",
   "id": "109271b4",
   "metadata": {},
   "source": [
    "# Preprarar búsquedas"
   ]
  },
  {
   "cell_type": "code",
   "execution_count": 2,
   "id": "ee6eab49",
   "metadata": {},
   "outputs": [],
   "source": [
    "# Se creó un archivo con los links para cada búsqueda\n",
    "# Esto se basó en la opción de búsqueda avanzada de Twitter\n",
    "# Se seleccionó al expresidente Correa, dado que es activo desde el 2012 en Twitter\n",
    "query = pd.read_excel('query.xlsx', sheet_name='query')"
   ]
  },
  {
   "cell_type": "code",
   "execution_count": 3,
   "id": "a4e15bd9",
   "metadata": {},
   "outputs": [
    {
     "data": {
      "text/html": [
       "<div>\n",
       "<style scoped>\n",
       "    .dataframe tbody tr th:only-of-type {\n",
       "        vertical-align: middle;\n",
       "    }\n",
       "\n",
       "    .dataframe tbody tr th {\n",
       "        vertical-align: top;\n",
       "    }\n",
       "\n",
       "    .dataframe thead th {\n",
       "        text-align: right;\n",
       "    }\n",
       "</style>\n",
       "<table border=\"1\" class=\"dataframe\">\n",
       "  <thead>\n",
       "    <tr style=\"text-align: right;\">\n",
       "      <th></th>\n",
       "      <th>query</th>\n",
       "    </tr>\n",
       "  </thead>\n",
       "  <tbody>\n",
       "    <tr>\n",
       "      <th>0</th>\n",
       "      <td>https://twitter.com/search?q=(from%3AMashiRafa...</td>\n",
       "    </tr>\n",
       "    <tr>\n",
       "      <th>1</th>\n",
       "      <td>https://twitter.com/search?q=(from%3AMashiRafa...</td>\n",
       "    </tr>\n",
       "    <tr>\n",
       "      <th>2</th>\n",
       "      <td>https://twitter.com/search?q=(from%3AMashiRafa...</td>\n",
       "    </tr>\n",
       "    <tr>\n",
       "      <th>3</th>\n",
       "      <td>https://twitter.com/search?q=(from%3AMashiRafa...</td>\n",
       "    </tr>\n",
       "    <tr>\n",
       "      <th>4</th>\n",
       "      <td>https://twitter.com/search?q=(from%3AMashiRafa...</td>\n",
       "    </tr>\n",
       "  </tbody>\n",
       "</table>\n",
       "</div>"
      ],
      "text/plain": [
       "                                               query\n",
       "0  https://twitter.com/search?q=(from%3AMashiRafa...\n",
       "1  https://twitter.com/search?q=(from%3AMashiRafa...\n",
       "2  https://twitter.com/search?q=(from%3AMashiRafa...\n",
       "3  https://twitter.com/search?q=(from%3AMashiRafa...\n",
       "4  https://twitter.com/search?q=(from%3AMashiRafa..."
      ]
     },
     "execution_count": 3,
     "metadata": {},
     "output_type": "execute_result"
    }
   ],
   "source": [
    "query.head()"
   ]
  },
  {
   "cell_type": "code",
   "execution_count": 4,
   "id": "cde22d67",
   "metadata": {},
   "outputs": [],
   "source": [
    "query = list(query['query'])"
   ]
  },
  {
   "cell_type": "code",
   "execution_count": 5,
   "id": "d0c89f97",
   "metadata": {},
   "outputs": [
    {
     "data": {
      "text/plain": [
       "'https://twitter.com/search?q=(from%3AMashiRafael)%20until%3A2013-01-31%20since%3A2013-01-01&src=typeahead_click'"
      ]
     },
     "execution_count": 5,
     "metadata": {},
     "output_type": "execute_result"
    }
   ],
   "source": [
    "query[0]"
   ]
  },
  {
   "cell_type": "markdown",
   "id": "a6ae5786",
   "metadata": {},
   "source": [
    "# Inicio de sesión"
   ]
  },
  {
   "cell_type": "code",
   "execution_count": 6,
   "id": "4c453715",
   "metadata": {
    "scrolled": true
   },
   "outputs": [],
   "source": [
    "# Driver de Firefox\n",
    "driver = webdriver.Firefox()"
   ]
  },
  {
   "cell_type": "code",
   "execution_count": 7,
   "id": "c651adc9",
   "metadata": {},
   "outputs": [],
   "source": [
    "# Página de interés\n",
    "driver.get('http://www.twitter.com')"
   ]
  },
  {
   "cell_type": "code",
   "execution_count": 8,
   "id": "aba3f670",
   "metadata": {},
   "outputs": [],
   "source": [
    "# Dar click en inicio de sesion\n",
    "inicio = WebDriverWait(driver, 10).until(EC.element_to_be_clickable((By.CSS_SELECTOR, 'div.r-1cvl2hr')))\n",
    "inicio.click()"
   ]
  },
  {
   "cell_type": "code",
   "execution_count": 9,
   "id": "44d64866",
   "metadata": {},
   "outputs": [],
   "source": [
    "# Ingresar username\n",
    "username = WebDriverWait(driver, 10).until(EC.element_to_be_clickable((By.CSS_SELECTOR, \"input[name='text']\")))\n",
    "username.clear()\n",
    "username.send_keys('su_correo')\n",
    "# Dar click en siguiente\n",
    "siguiente = WebDriverWait(driver, 10).until(EC.element_to_be_clickable((By.CSS_SELECTOR, 'div.css-18t94o4:nth-child(6)')))\n",
    "siguiente.click()"
   ]
  },
  {
   "cell_type": "code",
   "execution_count": 10,
   "id": "284e2ad8",
   "metadata": {},
   "outputs": [],
   "source": [
    "# Ingresar contrasena\n",
    "password = WebDriverWait(driver, 10).until(EC.element_to_be_clickable((By.CSS_SELECTOR, \"input[name='password']\")))\n",
    "password.clear()\n",
    "password.send_keys('su_contrasena')"
   ]
  },
  {
   "cell_type": "code",
   "execution_count": 11,
   "id": "07f072f1",
   "metadata": {},
   "outputs": [],
   "source": [
    "# Dar click en iniciar sesion\n",
    "sesion = WebDriverWait(driver, 10).until(EC.element_to_be_clickable((By.CSS_SELECTOR, '.r-ywje51')))\n",
    "sesion.click()"
   ]
  },
  {
   "cell_type": "markdown",
   "id": "f9828efd",
   "metadata": {},
   "source": [
    "Es posible que Twitter le informé sobre un inicio inusual de sesión y le pida adicionalmente el ingreso de su número de teléfono o un código enviado, esto por seguridad"
   ]
  },
  {
   "cell_type": "markdown",
   "id": "994f564a",
   "metadata": {},
   "source": [
    "# Estableciendo directorio"
   ]
  },
  {
   "cell_type": "code",
   "execution_count": 12,
   "id": "41e58ec3",
   "metadata": {},
   "outputs": [],
   "source": [
    "# Estableciendo directorio original\n",
    "org_path = r'C:\\Users\\jairo\\Documents\\Autoaprendizaje\\Web scraping\\Twitter\\jupyter'\n",
    "os.chdir(org_path)"
   ]
  },
  {
   "cell_type": "code",
   "execution_count": 13,
   "id": "e8301b6f",
   "metadata": {},
   "outputs": [],
   "source": [
    "# Nombre de la carpeta\n",
    "carpet = 'MashiRafael2014'"
   ]
  },
  {
   "cell_type": "code",
   "execution_count": 14,
   "id": "37854267",
   "metadata": {},
   "outputs": [],
   "source": [
    "# Determinando el directorio\n",
    "path = os.path.abspath(os.getcwd())\n",
    "# Creando directorio para descargas\n",
    "path = os.path.join(path, carpet)\n",
    "# Creando carpeta\n",
    "os.mkdir(path)"
   ]
  },
  {
   "cell_type": "code",
   "execution_count": 15,
   "id": "78f161b3",
   "metadata": {},
   "outputs": [],
   "source": [
    "# Estableciendo directorio nuevo \n",
    "nuevo_path = r'C:\\Users\\jairo\\Documents\\Autoaprendizaje\\Web scraping\\Twitter\\jupyter\\MashiRafael2014'\n",
    "os.chdir(nuevo_path)"
   ]
  },
  {
   "cell_type": "markdown",
   "id": "dcaae278",
   "metadata": {},
   "source": [
    "# Búsqueda"
   ]
  },
  {
   "cell_type": "code",
   "execution_count": 16,
   "id": "266feb0a",
   "metadata": {},
   "outputs": [],
   "source": [
    "# Indice para numerar a los archivos que se crearán\n",
    "j = 1"
   ]
  },
  {
   "cell_type": "markdown",
   "id": "64c77537",
   "metadata": {},
   "source": [
    "## Busqueda para todo el 2014"
   ]
  },
  {
   "cell_type": "code",
   "execution_count": 17,
   "id": "6f2d29bc",
   "metadata": {},
   "outputs": [
    {
     "name": "stdout",
     "output_type": "stream",
     "text": [
      "Se han encontrado 40 publicaciones\n",
      "Se ha creado el archivo busqueda1.csv\n",
      "Se ha terminado el mes 1\n",
      "---------------------------------------------\n",
      "Se han encontrado 41 publicaciones\n",
      "Se ha creado el archivo busqueda2.csv\n",
      "Se ha terminado el mes 2\n",
      "---------------------------------------------\n",
      "Se han encontrado 41 publicaciones\n",
      "Se ha creado el archivo busqueda3.csv\n",
      "Se ha terminado el mes 3\n",
      "---------------------------------------------\n",
      "Se han encontrado 40 publicaciones\n",
      "Se ha creado el archivo busqueda4.csv\n",
      "Se ha terminado el mes 4\n",
      "---------------------------------------------\n",
      "Se han encontrado 42 publicaciones\n",
      "Se ha creado el archivo busqueda5.csv\n",
      "Se ha terminado el mes 5\n",
      "---------------------------------------------\n",
      "Se han encontrado 42 publicaciones\n",
      "Se ha creado el archivo busqueda6.csv\n",
      "Se ha terminado el mes 6\n",
      "---------------------------------------------\n",
      "Se han encontrado 40 publicaciones\n",
      "Se ha creado el archivo busqueda7.csv\n",
      "Se ha terminado el mes 7\n",
      "---------------------------------------------\n",
      "Se han encontrado 43 publicaciones\n",
      "Se ha creado el archivo busqueda8.csv\n",
      "Se ha terminado el mes 8\n",
      "---------------------------------------------\n",
      "Se han encontrado 43 publicaciones\n",
      "Se ha creado el archivo busqueda9.csv\n",
      "Se ha terminado el mes 9\n",
      "---------------------------------------------\n",
      "Se han encontrado 40 publicaciones\n",
      "Se ha creado el archivo busqueda10.csv\n",
      "Se ha terminado el mes 10\n",
      "---------------------------------------------\n",
      "Se han encontrado 45 publicaciones\n",
      "Se ha creado el archivo busqueda11.csv\n",
      "Se ha terminado el mes 11\n",
      "---------------------------------------------\n",
      "Se han encontrado 45 publicaciones\n",
      "Se ha creado el archivo busqueda12.csv\n",
      "Se ha terminado el mes 12\n",
      "---------------------------------------------\n",
      "Se han encontrado 40 publicaciones\n",
      "Se ha creado el archivo busqueda13.csv\n",
      "Se ha terminado el mes 13\n",
      "---------------------------------------------\n",
      "Se han encontrado 46 publicaciones\n",
      "Se ha creado el archivo busqueda14.csv\n",
      "Se ha terminado el mes 14\n",
      "---------------------------------------------\n",
      "Se han encontrado 46 publicaciones\n",
      "Se ha creado el archivo busqueda15.csv\n",
      "Se ha terminado el mes 15\n",
      "---------------------------------------------\n",
      "Se han encontrado 40 publicaciones\n",
      "Se ha creado el archivo busqueda16.csv\n",
      "Se ha terminado el mes 16\n",
      "---------------------------------------------\n",
      "Se han encontrado 43 publicaciones\n",
      "Se ha creado el archivo busqueda17.csv\n",
      "Se ha terminado el mes 17\n",
      "---------------------------------------------\n",
      "Se han encontrado 43 publicaciones\n",
      "Se ha creado el archivo busqueda18.csv\n",
      "Se ha terminado el mes 18\n",
      "---------------------------------------------\n",
      "Se han encontrado 32 publicaciones\n",
      "Se ha creado el archivo busqueda19.csv\n",
      "Se ha terminado el mes 19\n",
      "---------------------------------------------\n",
      "Se han encontrado 32 publicaciones\n",
      "Se ha creado el archivo busqueda20.csv\n",
      "Se ha terminado el mes 20\n",
      "---------------------------------------------\n",
      "Se han encontrado 32 publicaciones\n",
      "Se ha creado el archivo busqueda21.csv\n",
      "Se ha terminado el mes 21\n",
      "---------------------------------------------\n",
      "Se han encontrado 40 publicaciones\n",
      "Se ha creado el archivo busqueda22.csv\n",
      "Se ha terminado el mes 22\n",
      "---------------------------------------------\n",
      "Se han encontrado 45 publicaciones\n",
      "Se ha creado el archivo busqueda23.csv\n",
      "Se ha terminado el mes 23\n",
      "---------------------------------------------\n",
      "Se han encontrado 45 publicaciones\n",
      "Se ha creado el archivo busqueda24.csv\n",
      "Se ha terminado el mes 24\n",
      "---------------------------------------------\n",
      "Se han encontrado 47 publicaciones\n",
      "Se ha creado el archivo busqueda25.csv\n",
      "Se ha terminado el mes 25\n",
      "---------------------------------------------\n",
      "Se han encontrado 47 publicaciones\n",
      "Se ha creado el archivo busqueda26.csv\n",
      "Se ha terminado el mes 26\n",
      "---------------------------------------------\n",
      "Se han encontrado 47 publicaciones\n",
      "Se ha creado el archivo busqueda27.csv\n",
      "Se ha terminado el mes 27\n",
      "---------------------------------------------\n",
      "Se han encontrado 48 publicaciones\n",
      "Se ha creado el archivo busqueda28.csv\n",
      "Se ha terminado el mes 28\n",
      "---------------------------------------------\n",
      "Se han encontrado 45 publicaciones\n",
      "Se ha creado el archivo busqueda29.csv\n",
      "Se ha terminado el mes 29\n",
      "---------------------------------------------\n",
      "Se han encontrado 45 publicaciones\n",
      "Se ha creado el archivo busqueda30.csv\n",
      "Se ha terminado el mes 30\n",
      "---------------------------------------------\n",
      "Se han encontrado 45 publicaciones\n",
      "Se ha creado el archivo busqueda31.csv\n",
      "Se ha terminado el mes 31\n",
      "---------------------------------------------\n",
      "Se han encontrado 45 publicaciones\n",
      "Se ha creado el archivo busqueda32.csv\n",
      "Se ha terminado el mes 32\n",
      "---------------------------------------------\n",
      "Se han encontrado 45 publicaciones\n",
      "Se ha creado el archivo busqueda33.csv\n",
      "Se ha terminado el mes 33\n",
      "---------------------------------------------\n",
      "Se han encontrado 49 publicaciones\n",
      "Se ha creado el archivo busqueda34.csv\n",
      "Se ha terminado el mes 34\n",
      "---------------------------------------------\n",
      "Se han encontrado 47 publicaciones\n",
      "Se ha creado el archivo busqueda35.csv\n",
      "Se ha terminado el mes 35\n",
      "---------------------------------------------\n",
      "Se han encontrado 47 publicaciones\n",
      "Se ha creado el archivo busqueda36.csv\n",
      "Se ha terminado el mes 36\n",
      "---------------------------------------------\n"
     ]
    }
   ],
   "source": [
    "l = 1\n",
    "for k in range(12,24):\n",
    "    # busqueda\n",
    "    driver.get(query[k])\n",
    "    time.sleep(5)\n",
    "    \n",
    "    for i in range(1,4):\n",
    "        # Obtener todo tipo article\n",
    "        aux = driver.find_elements_by_tag_name('article')\n",
    "        print(r'Se han encontrado', len(aux), 'publicaciones')\n",
    "        # Extraer texto de publicaciones\n",
    "        texto = [a.text for a in aux]\n",
    "        # Crear dataframe con publicaciones\n",
    "        df = pd.DataFrame({'text':texto})\n",
    "        # Nombre para el archivo\n",
    "        names = 'busqueda'+str(j)+'.csv'\n",
    "        # Crear archivo csv con nombre name\n",
    "        df.to_csv(names, index= False, encoding='utf-8')\n",
    "        print(r'Se ha creado el archivo',names)\n",
    "        # Borrado de variables\n",
    "        del aux\n",
    "        del texto\n",
    "        del df\n",
    "        # Cargar mas publicaciones\n",
    "        driver.execute_script(\"window.scrollTo(0, document.body.scrollHeight);\")\n",
    "        time.sleep(5)\n",
    "        j += 1\n",
    "        # Mensajes de fin de mes\n",
    "        print(r'Se ha terminado el mes',l)\n",
    "        print('---------------------------------------------')\n",
    "        l += 1 "
   ]
  },
  {
   "cell_type": "markdown",
   "id": "f6649d9a",
   "metadata": {},
   "source": [
    "# Carga de los tweets en un solo archivo"
   ]
  },
  {
   "cell_type": "code",
   "execution_count": 18,
   "id": "0ef80f3f",
   "metadata": {},
   "outputs": [],
   "source": [
    "# Determinando archivos\n",
    "files = os.listdir(nuevo_path)"
   ]
  },
  {
   "cell_type": "code",
   "execution_count": 19,
   "id": "17d32158",
   "metadata": {},
   "outputs": [
    {
     "data": {
      "text/plain": [
       "['busqueda1.csv',\n",
       " 'busqueda10.csv',\n",
       " 'busqueda11.csv',\n",
       " 'busqueda12.csv',\n",
       " 'busqueda13.csv',\n",
       " 'busqueda14.csv',\n",
       " 'busqueda15.csv',\n",
       " 'busqueda16.csv',\n",
       " 'busqueda17.csv',\n",
       " 'busqueda18.csv',\n",
       " 'busqueda19.csv',\n",
       " 'busqueda2.csv',\n",
       " 'busqueda20.csv',\n",
       " 'busqueda21.csv',\n",
       " 'busqueda22.csv',\n",
       " 'busqueda23.csv',\n",
       " 'busqueda24.csv',\n",
       " 'busqueda25.csv',\n",
       " 'busqueda26.csv',\n",
       " 'busqueda27.csv',\n",
       " 'busqueda28.csv',\n",
       " 'busqueda29.csv',\n",
       " 'busqueda3.csv',\n",
       " 'busqueda30.csv',\n",
       " 'busqueda31.csv',\n",
       " 'busqueda32.csv',\n",
       " 'busqueda33.csv',\n",
       " 'busqueda34.csv',\n",
       " 'busqueda35.csv',\n",
       " 'busqueda36.csv',\n",
       " 'busqueda4.csv',\n",
       " 'busqueda5.csv',\n",
       " 'busqueda6.csv',\n",
       " 'busqueda7.csv',\n",
       " 'busqueda8.csv',\n",
       " 'busqueda9.csv']"
      ]
     },
     "execution_count": 19,
     "metadata": {},
     "output_type": "execute_result"
    }
   ],
   "source": [
    "files"
   ]
  },
  {
   "cell_type": "code",
   "execution_count": 20,
   "id": "0989e9fb",
   "metadata": {},
   "outputs": [
    {
     "name": "stdout",
     "output_type": "stream",
     "text": [
      "Se ha leído el archivo busqueda1.csv\n"
     ]
    }
   ],
   "source": [
    "df = pd.read_csv(files[0])\n",
    "print(r'Se ha leído el archivo',files[0])"
   ]
  },
  {
   "cell_type": "code",
   "execution_count": 21,
   "id": "3c22ba5f",
   "metadata": {},
   "outputs": [
    {
     "name": "stdout",
     "output_type": "stream",
     "text": [
      "Se ha leído el archivo busqueda10.csv con 40 entradas\n",
      "Se ha leído el archivo busqueda11.csv con 45 entradas\n",
      "Se ha leído el archivo busqueda12.csv con 45 entradas\n",
      "Se ha leído el archivo busqueda13.csv con 40 entradas\n",
      "Se ha leído el archivo busqueda14.csv con 46 entradas\n",
      "Se ha leído el archivo busqueda15.csv con 46 entradas\n",
      "Se ha leído el archivo busqueda16.csv con 40 entradas\n",
      "Se ha leído el archivo busqueda17.csv con 43 entradas\n",
      "Se ha leído el archivo busqueda18.csv con 43 entradas\n",
      "Se ha leído el archivo busqueda19.csv con 32 entradas\n",
      "Se ha leído el archivo busqueda2.csv con 41 entradas\n",
      "Se ha leído el archivo busqueda20.csv con 32 entradas\n",
      "Se ha leído el archivo busqueda21.csv con 32 entradas\n",
      "Se ha leído el archivo busqueda22.csv con 40 entradas\n",
      "Se ha leído el archivo busqueda23.csv con 45 entradas\n",
      "Se ha leído el archivo busqueda24.csv con 45 entradas\n",
      "Se ha leído el archivo busqueda25.csv con 47 entradas\n",
      "Se ha leído el archivo busqueda26.csv con 47 entradas\n",
      "Se ha leído el archivo busqueda27.csv con 47 entradas\n",
      "Se ha leído el archivo busqueda28.csv con 48 entradas\n",
      "Se ha leído el archivo busqueda29.csv con 45 entradas\n",
      "Se ha leído el archivo busqueda3.csv con 41 entradas\n",
      "Se ha leído el archivo busqueda30.csv con 45 entradas\n",
      "Se ha leído el archivo busqueda31.csv con 45 entradas\n",
      "Se ha leído el archivo busqueda32.csv con 45 entradas\n",
      "Se ha leído el archivo busqueda33.csv con 45 entradas\n",
      "Se ha leído el archivo busqueda34.csv con 49 entradas\n",
      "Se ha leído el archivo busqueda35.csv con 47 entradas\n",
      "Se ha leído el archivo busqueda36.csv con 47 entradas\n",
      "Se ha leído el archivo busqueda4.csv con 40 entradas\n",
      "Se ha leído el archivo busqueda5.csv con 42 entradas\n",
      "Se ha leído el archivo busqueda6.csv con 42 entradas\n",
      "Se ha leído el archivo busqueda7.csv con 40 entradas\n",
      "Se ha leído el archivo busqueda8.csv con 43 entradas\n",
      "Se ha leído el archivo busqueda9.csv con 43 entradas\n"
     ]
    }
   ],
   "source": [
    "for j in range(1, len(files)):\n",
    "    df_aux = pd.read_csv(files[j])\n",
    "    print(r'Se ha leído el archivo',files[j],'con',len(df_aux), 'entradas')\n",
    "    df = pd.merge(df, df_aux, 'outer', on = 'text')"
   ]
  },
  {
   "cell_type": "code",
   "execution_count": 22,
   "id": "31f239ba",
   "metadata": {},
   "outputs": [
    {
     "data": {
      "text/plain": [
       "(534, 1)"
      ]
     },
     "execution_count": 22,
     "metadata": {},
     "output_type": "execute_result"
    }
   ],
   "source": [
    "df.shape"
   ]
  },
  {
   "cell_type": "code",
   "execution_count": 23,
   "id": "cfab33d2",
   "metadata": {},
   "outputs": [
    {
     "data": {
      "text/plain": [
       "'Rafael Correa\\n@MashiRafael\\n·\\nMar 26, 2014\\nReplying to \\n@cabobas\\n@cabobas\\n Asesora: favor atender.\\nP.D. Disculpe. Hace unos minutos se me fue un mensaje que no era para usted.\\n1\\n2\\n4'"
      ]
     },
     "execution_count": 23,
     "metadata": {},
     "output_type": "execute_result"
    }
   ],
   "source": [
    "df.text[len(df)-1]"
   ]
  },
  {
   "cell_type": "markdown",
   "id": "c894153a",
   "metadata": {},
   "source": [
    "Elaborado por Jairo Rojas\n",
    "\n",
    "Email: jairinrojasb@gmail.com"
   ]
  }
 ],
 "metadata": {
  "kernelspec": {
   "display_name": "Python 3",
   "language": "python",
   "name": "python3"
  },
  "language_info": {
   "codemirror_mode": {
    "name": "ipython",
    "version": 3
   },
   "file_extension": ".py",
   "mimetype": "text/x-python",
   "name": "python",
   "nbconvert_exporter": "python",
   "pygments_lexer": "ipython3",
   "version": "3.8.8"
  }
 },
 "nbformat": 4,
 "nbformat_minor": 5
}
